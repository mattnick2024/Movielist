{
 "cells": [
  {
   "cell_type": "code",
   "execution_count": null,
   "id": "4156f6e1-9431-4f83-9a48-f28cf2ecf2ec",
   "metadata": {
    "tags": []
   },
   "outputs": [],
   "source": [
    "import pandas as pd\n",
    "import streamlit as st\n",
    "import pickle\n"
   ]
  },
  {
   "cell_type": "code",
   "execution_count": null,
   "id": "30891b4e-2181-45de-9929-78bd28cc6557",
   "metadata": {
    "tags": []
   },
   "outputs": [],
   "source": [
    "!pip install streamlit-theme"
   ]
  },
  {
   "cell_type": "code",
   "execution_count": null,
   "id": "92c6e9fd-8455-4b38-9c47-7133bf114d19",
   "metadata": {
    "tags": []
   },
   "outputs": [],
   "source": [
    "st.title(\"Movie-List\")"
   ]
  },
  {
   "cell_type": "code",
   "execution_count": 81,
   "id": "b902aa53-4bc2-4b9c-87bd-6905af363e1b",
   "metadata": {},
   "outputs": [
    {
     "data": {
      "text/plain": [
       "(9740, 7)"
      ]
     },
     "metadata": {},
     "output_type": "display_data"
    },
    {
     "data": {
      "text/html": [
       "<div>\n",
       "<style scoped>\n",
       "    .dataframe tbody tr th:only-of-type {\n",
       "        vertical-align: middle;\n",
       "    }\n",
       "\n",
       "    .dataframe tbody tr th {\n",
       "        vertical-align: top;\n",
       "    }\n",
       "\n",
       "    .dataframe thead th {\n",
       "        text-align: right;\n",
       "    }\n",
       "</style>\n",
       "<table border=\"1\" class=\"dataframe\">\n",
       "  <thead>\n",
       "    <tr style=\"text-align: right;\">\n",
       "      <th></th>\n",
       "      <th>movieId</th>\n",
       "      <th>title</th>\n",
       "      <th>genres</th>\n",
       "      <th>tmdbId</th>\n",
       "      <th>longtitle</th>\n",
       "      <th>year</th>\n",
       "      <th>titlen</th>\n",
       "    </tr>\n",
       "  </thead>\n",
       "  <tbody>\n",
       "    <tr>\n",
       "      <th>8600</th>\n",
       "      <td>117867</td>\n",
       "      <td>'71</td>\n",
       "      <td>Action|Drama|Thriller|War</td>\n",
       "      <td>252178.0</td>\n",
       "      <td>'71 (2014)</td>\n",
       "      <td>2014</td>\n",
       "      <td>3</td>\n",
       "    </tr>\n",
       "    <tr>\n",
       "      <th>8014</th>\n",
       "      <td>97757</td>\n",
       "      <td>'Hellboy': The Seeds of Creation</td>\n",
       "      <td>Action|Adventure|Comedy|Documentary|Fantasy</td>\n",
       "      <td>72867.0</td>\n",
       "      <td>'Hellboy': The Seeds of Creation (2004)</td>\n",
       "      <td>2004</td>\n",
       "      <td>32</td>\n",
       "    </tr>\n",
       "    <tr>\n",
       "      <th>5528</th>\n",
       "      <td>26564</td>\n",
       "      <td>'Round Midnight</td>\n",
       "      <td>Drama|Musical</td>\n",
       "      <td>14670.0</td>\n",
       "      <td>'Round Midnight (1986)</td>\n",
       "      <td>1986</td>\n",
       "      <td>15</td>\n",
       "    </tr>\n",
       "  </tbody>\n",
       "</table>\n",
       "</div>"
      ],
      "text/plain": [
       "      movieId                             title  \\\n",
       "8600   117867                               '71   \n",
       "8014    97757  'Hellboy': The Seeds of Creation   \n",
       "5528    26564                   'Round Midnight   \n",
       "\n",
       "                                           genres    tmdbId  \\\n",
       "8600                    Action|Drama|Thriller|War  252178.0   \n",
       "8014  Action|Adventure|Comedy|Documentary|Fantasy   72867.0   \n",
       "5528                                Drama|Musical   14670.0   \n",
       "\n",
       "                                    longtitle  year  titlen  \n",
       "8600                               '71 (2014)  2014       3  \n",
       "8014  'Hellboy': The Seeds of Creation (2004)  2004      32  \n",
       "5528                   'Round Midnight (1986)  1986      15  "
      ]
     },
     "execution_count": 81,
     "metadata": {},
     "output_type": "execute_result"
    }
   ],
   "source": [
    "movies = pd.read_csv(\"csv/movies.csv\")\n",
    "links = pd.read_csv(\"csv/links.csv\")\n",
    "ratings = pd.read_csv(\"csv/ratings.csv\")\n",
    "#display(movies.shape)\n",
    "#display(links.shape)\n",
    "movies = movies.merge(links,on=\"movieId\",how=\"left\")\n",
    "movies[\"longtitle\"] = movies[\"title\"]\n",
    "movies[\"year\"] = movies[\"title\"].str[-5:-1]\n",
    "movies[\"title\"] = movies[\"title\"].str[0:-6]\n",
    "movies[\"title\"] = movies[\"title\"].str.strip()\n",
    "movies[\"titlen\"] = movies[\"title\"].str.len()\n",
    "movies = movies.drop([\"imdbId\"],axis=1).copy()\n",
    "movies = movies.drop_duplicates().copy()\n",
    "movies = movies.loc[movies[\"title\"] != \"\"]\n",
    "movies = movies.sort_values([\"title\",\"year\"]).copy()\n",
    "display(movies.shape)\n",
    "movies.head(3)"
   ]
  },
  {
   "cell_type": "code",
   "execution_count": 83,
   "id": "f8e2e230-892e-418f-aabf-4454e43433e9",
   "metadata": {},
   "outputs": [],
   "source": [
    "fileObj = open('pickle/movielist.sav', 'wb')\n",
    "pickle.dump(movies[[\"movieId\",\"title\",\"genres\",\"year\",\"tmdbId\"]],fileObj)\n",
    "fileObj.close()"
   ]
  },
  {
   "cell_type": "code",
   "execution_count": null,
   "id": "c7f4153d-94ee-4456-8354-cf7cee0dbaa0",
   "metadata": {},
   "outputs": [],
   "source": [
    "movies.loc[movies[\"title\"].str.contains(\"'\")]"
   ]
  },
  {
   "cell_type": "code",
   "execution_count": null,
   "id": "03de2464-ae81-4089-a4f9-029a759229a1",
   "metadata": {},
   "outputs": [],
   "source": [
    "movies.value_counts(\"longtitle\").head(10)"
   ]
  },
  {
   "cell_type": "code",
   "execution_count": null,
   "id": "320d86f4-7a90-4fc3-972e-1737087ee88c",
   "metadata": {},
   "outputs": [],
   "source": [
    "movies[[\"title\",\"year\",\"titlen\",\"genres\"]].loc[movies[\"title\"]==\"Emma\"]"
   ]
  },
  {
   "cell_type": "code",
   "execution_count": null,
   "id": "a14f16b8-f9b6-415f-8f82-11b716559270",
   "metadata": {},
   "outputs": [],
   "source": [
    "movies.value_counts(\"title\")"
   ]
  },
  {
   "cell_type": "code",
   "execution_count": 84,
   "id": "b31134ac-47af-4288-ab4a-cce770f889b3",
   "metadata": {},
   "outputs": [
    {
     "data": {
      "text/html": [
       "<div>\n",
       "<style scoped>\n",
       "    .dataframe tbody tr th:only-of-type {\n",
       "        vertical-align: middle;\n",
       "    }\n",
       "\n",
       "    .dataframe tbody tr th {\n",
       "        vertical-align: top;\n",
       "    }\n",
       "\n",
       "    .dataframe thead th {\n",
       "        text-align: right;\n",
       "    }\n",
       "</style>\n",
       "<table border=\"1\" class=\"dataframe\">\n",
       "  <thead>\n",
       "    <tr style=\"text-align: right;\">\n",
       "      <th></th>\n",
       "      <th>movieId</th>\n",
       "      <th>title</th>\n",
       "      <th>genres</th>\n",
       "      <th>tmdbId</th>\n",
       "      <th>longtitle</th>\n",
       "      <th>year</th>\n",
       "      <th>titlen</th>\n",
       "    </tr>\n",
       "  </thead>\n",
       "  <tbody>\n",
       "    <tr>\n",
       "      <th>8600</th>\n",
       "      <td>117867</td>\n",
       "      <td>'71</td>\n",
       "      <td>Action|Drama|Thriller|War</td>\n",
       "      <td>252178.0</td>\n",
       "      <td>'71 (2014)</td>\n",
       "      <td>2014</td>\n",
       "      <td>3</td>\n",
       "    </tr>\n",
       "    <tr>\n",
       "      <th>8014</th>\n",
       "      <td>97757</td>\n",
       "      <td>'Hellboy': The Seeds of Creation</td>\n",
       "      <td>Action|Adventure|Comedy|Documentary|Fantasy</td>\n",
       "      <td>72867.0</td>\n",
       "      <td>'Hellboy': The Seeds of Creation (2004)</td>\n",
       "      <td>2004</td>\n",
       "      <td>32</td>\n",
       "    </tr>\n",
       "    <tr>\n",
       "      <th>5528</th>\n",
       "      <td>26564</td>\n",
       "      <td>'Round Midnight</td>\n",
       "      <td>Drama|Musical</td>\n",
       "      <td>14670.0</td>\n",
       "      <td>'Round Midnight (1986)</td>\n",
       "      <td>1986</td>\n",
       "      <td>15</td>\n",
       "    </tr>\n",
       "  </tbody>\n",
       "</table>\n",
       "</div>"
      ],
      "text/plain": [
       "      movieId                             title  \\\n",
       "8600   117867                               '71   \n",
       "8014    97757  'Hellboy': The Seeds of Creation   \n",
       "5528    26564                   'Round Midnight   \n",
       "\n",
       "                                           genres    tmdbId  \\\n",
       "8600                    Action|Drama|Thriller|War  252178.0   \n",
       "8014  Action|Adventure|Comedy|Documentary|Fantasy   72867.0   \n",
       "5528                                Drama|Musical   14670.0   \n",
       "\n",
       "                                    longtitle  year  titlen  \n",
       "8600                               '71 (2014)  2014       3  \n",
       "8014  'Hellboy': The Seeds of Creation (2004)  2004      32  \n",
       "5528                   'Round Midnight (1986)  1986      15  "
      ]
     },
     "execution_count": 84,
     "metadata": {},
     "output_type": "execute_result"
    }
   ],
   "source": [
    "movies.head(3)"
   ]
  },
  {
   "cell_type": "code",
   "execution_count": null,
   "id": "a75b3c6b-4f36-444b-b990-9d3ab04a8863",
   "metadata": {
    "tags": []
   },
   "outputs": [],
   "source": [
    "fileObj = open('pickle/movielist.sav', 'wb')\n",
    "pickle.dump(movies,fileObj)\n",
    "fileObj.close()"
   ]
  },
  {
   "cell_type": "code",
   "execution_count": null,
   "id": "2d30fd58-936d-48ea-b891-d4c979fad875",
   "metadata": {
    "tags": []
   },
   "outputs": [],
   "source": [
    "pickle.load(open('pickle/movielist.sav', 'rb'))"
   ]
  },
  {
   "cell_type": "code",
   "execution_count": null,
   "id": "27377dc6-54f6-4b0f-a97e-70df85bea4ce",
   "metadata": {},
   "outputs": [],
   "source": [
    "pickle.load(fileObj = open('data.obj', 'wb')\n",
    "pickle.dump(exampleObj,fileObj)\n",
    "fileObj.close())"
   ]
  },
  {
   "cell_type": "code",
   "execution_count": null,
   "id": "358789d8-8535-4fd1-9299-bb1b70077875",
   "metadata": {
    "tags": []
   },
   "outputs": [],
   "source": [
    "movielist "
   ]
  },
  {
   "cell_type": "code",
   "execution_count": null,
   "id": "f8fd60df-3c28-4738-87e7-49c4ede16190",
   "metadata": {
    "tags": []
   },
   "outputs": [],
   "source": [
    "import requests\n",
    "url = \"https://movie-database-alternative.p.rapidapi.com/\"\n",
    "querystring = {\"s\":\"Avengers Endgame\",\"r\":\"json\",\"page\":\"1\"}\n",
    "headers = {\n",
    "\t\"X-RapidAPI-Key\": \"5fa14b11eb00ababb5cc2307d9ff8266\",\n",
    "\t\"X-RapidAPI-Host\": \"movie-database-alternative.p.rapidapi.com\"\n",
    "}\n",
    "response = requests.get(url, headers=headers, params=querystring)\n",
    "print(response.json())\n"
   ]
  },
  {
   "cell_type": "code",
   "execution_count": null,
   "id": "47925d90-b4dc-4764-a3ee-8466dcd6bfd2",
   "metadata": {
    "tags": []
   },
   "outputs": [],
   "source": [
    "import requests\n",
    "import os\n",
    "from dotenv import load_dotenv\n",
    "\n",
    "def get_poster_url(tmdbId):\n",
    "    load_dotenv()\n",
    "    api_key = os.getenv('TMDB_API_KEY')\n",
    "    api_key = \"5fa14b11eb00ababb5cc2307d9ff8266\"\n",
    "    response = requests.get(f'https://api.themoviedb.org/3/movie/{tmdbId}?api_key={api_key}')\n",
    "    data = response.json()\n",
    "    poster_path = data.get('poster_path')\n",
    "    if poster_path:\n",
    "        return f'https://image.tmdb.org/t/p/w500{poster_path}'\n",
    "    else:\n",
    "        return None"
   ]
  },
  {
   "cell_type": "code",
   "execution_count": null,
   "id": "8e21e383-0689-4f51-9dc0-273dfb550f70",
   "metadata": {
    "tags": []
   },
   "outputs": [],
   "source": [
    "url = get_poster_url(8844)\n",
    "url"
   ]
  },
  {
   "cell_type": "code",
   "execution_count": null,
   "id": "462134ef-9626-4883-9c56-8c975dd5f9bf",
   "metadata": {},
   "outputs": [],
   "source": [
    "    API_key = \"5fa14b11eb00ababb5cc2307d9ff8266\""
   ]
  }
 ],
 "metadata": {
  "kernelspec": {
   "display_name": "Python 3 (ipykernel)",
   "language": "python",
   "name": "python3"
  },
  "language_info": {
   "codemirror_mode": {
    "name": "ipython",
    "version": 3
   },
   "file_extension": ".py",
   "mimetype": "text/x-python",
   "name": "python",
   "nbconvert_exporter": "python",
   "pygments_lexer": "ipython3",
   "version": "3.11.5"
  }
 },
 "nbformat": 4,
 "nbformat_minor": 5
}
