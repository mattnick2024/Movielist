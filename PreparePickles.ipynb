{
 "cells": [
  {
   "cell_type": "markdown",
   "id": "b60cc2cf-fc77-42fc-88ed-b295b1ad2413",
   "metadata": {},
   "source": [
    "# Init Libraries"
   ]
  },
  {
   "cell_type": "code",
   "execution_count": null,
   "id": "9d05df23-e7da-4dd3-af27-11b0099901b2",
   "metadata": {
    "tags": []
   },
   "outputs": [],
   "source": [
    "import pandas as pd\n",
    "import streamlit as st\n",
    "import pickle\n"
   ]
  },
  {
   "cell_type": "markdown",
   "id": "4e91a1e2-ac0b-4b40-83a9-c8e5188cbe52",
   "metadata": {},
   "source": [
    "# Load Data, Preprocess Movies"
   ]
  },
  {
   "cell_type": "code",
   "execution_count": null,
   "id": "b902aa53-4bc2-4b9c-87bd-6905af363e1b",
   "metadata": {},
   "outputs": [],
   "source": [
    "movies = pd.read_csv(\"csv/movies.csv\")\n",
    "links = pd.read_csv(\"csv/links.csv\")\n",
    "ratings = pd.read_csv(\"csv/ratings.csv\")\n",
    "movies = movies.merge(links,on=\"movieId\",how=\"left\")\n",
    "movies[\"year\"] = movies[\"title\"].str[-5:-1]\n",
    "movies = movies.drop([\"imdbId\"],axis=1).copy()\n",
    "movies = movies.drop_duplicates().copy()\n",
    "movies = movies.loc[movies[\"title\"] != \"\"]\n",
    "movies = movies.sort_values([\"title\",\"year\"]).copy()"
   ]
  },
  {
   "cell_type": "markdown",
   "id": "9cf41a1e-7209-453a-b652-6e0cbe1e2eea",
   "metadata": {},
   "source": [
    "# Aggregate Ratings by movieId"
   ]
  },
  {
   "cell_type": "code",
   "execution_count": null,
   "id": "09f52da6-1b69-407e-b9ec-f44c231616f5",
   "metadata": {
    "tags": []
   },
   "outputs": [],
   "source": [
    "ratings.groupby([\"movieId\"], as_index=False).agg({\"rating\":\"sum\"}).describe()"
   ]
  },
  {
   "cell_type": "code",
   "execution_count": null,
   "id": "f258738e-4d4c-49ba-94ce-1ab9716dde5e",
   "metadata": {
    "tags": []
   },
   "outputs": [],
   "source": [
    "aggRatings = ratings.groupby('movieId').agg(Rating_Count=('rating', 'count'),\n",
    "                                            Rating_Mean=('rating', 'mean')).reset_index()\n",
    "aggRatings = aggRatings.sort_values(\"Rating_Count\",ascending=False)"
   ]
  },
  {
   "cell_type": "markdown",
   "id": "5a802a16-e69d-4c86-aebd-402916da795e",
   "metadata": {},
   "source": [
    "# Merge Ratings to Movies"
   ]
  },
  {
   "cell_type": "code",
   "execution_count": null,
   "id": "2d9c008a-f97f-4cb6-b557-587cfe32ed2e",
   "metadata": {
    "tags": []
   },
   "outputs": [],
   "source": [
    "movies = movies.merge(aggRatings,on=\"movieId\",how=\"left\").copy()"
   ]
  },
  {
   "cell_type": "markdown",
   "id": "c4e75d70-f5b4-4ce1-9844-c5118c1b12dd",
   "metadata": {},
   "source": [
    "# Pickle Movielist"
   ]
  },
  {
   "cell_type": "code",
   "execution_count": null,
   "id": "f8e2e230-892e-418f-aabf-4454e43433e9",
   "metadata": {},
   "outputs": [],
   "source": [
    "fileObj = open('pickle/movielist.sav', 'wb')\n",
    "pickle.dump(movies[[\"movieId\",\"title\",\"genres\",\"year\",\"tmdbId\"]],fileObj)\n",
    "fileObj.close()"
   ]
  },
  {
   "cell_type": "markdown",
   "id": "886d05e1-f609-4354-b055-b11afbc50bc7",
   "metadata": {},
   "source": [
    "# Build Genre-List"
   ]
  },
  {
   "cell_type": "code",
   "execution_count": 45,
   "id": "902ae85c-f3b5-4bc3-9d88-1baf666ef4ad",
   "metadata": {
    "tags": []
   },
   "outputs": [],
   "source": [
    "genres = movies['genres'].str.split('|')\n",
    "genres = genres.explode('genres')\n",
    "genrelist = genres.unique()\n",
    "# genrelist = pd.DataFrame(genrelist).tolist()"
   ]
  },
  {
   "cell_type": "code",
   "execution_count": 46,
   "id": "0e7797d1-f7b8-4930-b207-4e711ea9e80c",
   "metadata": {
    "tags": []
   },
   "outputs": [
    {
     "data": {
      "text/plain": [
       "array(['Action', 'Drama', 'Thriller', 'War', 'Adventure', 'Comedy',\n",
       "       'Documentary', 'Fantasy', 'Musical', 'Horror', 'Mystery',\n",
       "       'Romance', 'Children', 'Sci-Fi', 'Crime', 'Animation', 'Film-Noir',\n",
       "       'IMAX', 'Western', '(no genres listed)'], dtype=object)"
      ]
     },
     "execution_count": 46,
     "metadata": {},
     "output_type": "execute_result"
    }
   ],
   "source": [
    "#genrelist"
   ]
  },
  {
   "cell_type": "code",
   "execution_count": null,
   "id": "71a99cc2-fcdc-43b5-bc90-8c7c43b34388",
   "metadata": {
    "tags": []
   },
   "outputs": [],
   "source": [
    "#movies[\"genres\"].sort_values()"
   ]
  },
  {
   "cell_type": "markdown",
   "id": "2a1083fd-3528-4695-9c70-74752b7075f1",
   "metadata": {},
   "source": [
    "# and Pickle it as a list"
   ]
  },
  {
   "cell_type": "code",
   "execution_count": null,
   "id": "db5e1db2-1249-4954-b71e-bdeb044b8d80",
   "metadata": {
    "tags": []
   },
   "outputs": [],
   "source": [
    "#genrelist = genres[0].tolist()"
   ]
  },
  {
   "cell_type": "code",
   "execution_count": 47,
   "id": "b34cbcb4-a719-4d02-bee0-dc364343e909",
   "metadata": {
    "tags": []
   },
   "outputs": [],
   "source": [
    "fileObj = open('pickle/genres.sav', 'wb')\n",
    "pickle.dump(genrelist,fileObj)\n",
    "fileObj.close()"
   ]
  },
  {
   "cell_type": "markdown",
   "id": "015b35dd-6846-432d-900f-026296b8fc04",
   "metadata": {},
   "source": [
    "# Check pickles"
   ]
  },
  {
   "cell_type": "code",
   "execution_count": 48,
   "id": "87541826-edf2-4a18-8c78-96758d84fa78",
   "metadata": {},
   "outputs": [
    {
     "data": {
      "text/html": [
       "<div>\n",
       "<style scoped>\n",
       "    .dataframe tbody tr th:only-of-type {\n",
       "        vertical-align: middle;\n",
       "    }\n",
       "\n",
       "    .dataframe tbody tr th {\n",
       "        vertical-align: top;\n",
       "    }\n",
       "\n",
       "    .dataframe thead th {\n",
       "        text-align: right;\n",
       "    }\n",
       "</style>\n",
       "<table border=\"1\" class=\"dataframe\">\n",
       "  <thead>\n",
       "    <tr style=\"text-align: right;\">\n",
       "      <th></th>\n",
       "      <th>movieId</th>\n",
       "      <th>title</th>\n",
       "      <th>genres</th>\n",
       "      <th>year</th>\n",
       "      <th>tmdbId</th>\n",
       "    </tr>\n",
       "  </thead>\n",
       "  <tbody>\n",
       "    <tr>\n",
       "      <th>0</th>\n",
       "      <td>117867</td>\n",
       "      <td>'71 (2014)</td>\n",
       "      <td>Action|Drama|Thriller|War</td>\n",
       "      <td>2014</td>\n",
       "      <td>252178.0</td>\n",
       "    </tr>\n",
       "    <tr>\n",
       "      <th>1</th>\n",
       "      <td>97757</td>\n",
       "      <td>'Hellboy': The Seeds of Creation (2004)</td>\n",
       "      <td>Action|Adventure|Comedy|Documentary|Fantasy</td>\n",
       "      <td>2004</td>\n",
       "      <td>72867.0</td>\n",
       "    </tr>\n",
       "    <tr>\n",
       "      <th>2</th>\n",
       "      <td>26564</td>\n",
       "      <td>'Round Midnight (1986)</td>\n",
       "      <td>Drama|Musical</td>\n",
       "      <td>1986</td>\n",
       "      <td>14670.0</td>\n",
       "    </tr>\n",
       "    <tr>\n",
       "      <th>3</th>\n",
       "      <td>27751</td>\n",
       "      <td>'Salem's Lot (2004)</td>\n",
       "      <td>Drama|Horror|Mystery|Thriller</td>\n",
       "      <td>2004</td>\n",
       "      <td>36763.0</td>\n",
       "    </tr>\n",
       "    <tr>\n",
       "      <th>4</th>\n",
       "      <td>779</td>\n",
       "      <td>'Til There Was You (1997)</td>\n",
       "      <td>Drama|Romance</td>\n",
       "      <td>1997</td>\n",
       "      <td>32872.0</td>\n",
       "    </tr>\n",
       "    <tr>\n",
       "      <th>...</th>\n",
       "      <td>...</td>\n",
       "      <td>...</td>\n",
       "      <td>...</td>\n",
       "      <td>...</td>\n",
       "      <td>...</td>\n",
       "    </tr>\n",
       "    <tr>\n",
       "      <th>9737</th>\n",
       "      <td>2600</td>\n",
       "      <td>eXistenZ (1999)</td>\n",
       "      <td>Action|Sci-Fi|Thriller</td>\n",
       "      <td>1999</td>\n",
       "      <td>1946.0</td>\n",
       "    </tr>\n",
       "    <tr>\n",
       "      <th>9738</th>\n",
       "      <td>5507</td>\n",
       "      <td>xXx (2002)</td>\n",
       "      <td>Action|Crime|Thriller</td>\n",
       "      <td>2002</td>\n",
       "      <td>7451.0</td>\n",
       "    </tr>\n",
       "    <tr>\n",
       "      <th>9739</th>\n",
       "      <td>33158</td>\n",
       "      <td>xXx: State of the Union (2005)</td>\n",
       "      <td>Action|Crime|Thriller</td>\n",
       "      <td>2005</td>\n",
       "      <td>11679.0</td>\n",
       "    </tr>\n",
       "    <tr>\n",
       "      <th>9740</th>\n",
       "      <td>2478</td>\n",
       "      <td>¡Three Amigos! (1986)</td>\n",
       "      <td>Comedy|Western</td>\n",
       "      <td>1986</td>\n",
       "      <td>8388.0</td>\n",
       "    </tr>\n",
       "    <tr>\n",
       "      <th>9741</th>\n",
       "      <td>5560</td>\n",
       "      <td>À nous la liberté (Freedom for Us) (1931)</td>\n",
       "      <td>Comedy|Musical</td>\n",
       "      <td>1931</td>\n",
       "      <td>31514.0</td>\n",
       "    </tr>\n",
       "  </tbody>\n",
       "</table>\n",
       "<p>9742 rows × 5 columns</p>\n",
       "</div>"
      ],
      "text/plain": [
       "      movieId                                      title  \\\n",
       "0      117867                                 '71 (2014)   \n",
       "1       97757    'Hellboy': The Seeds of Creation (2004)   \n",
       "2       26564                     'Round Midnight (1986)   \n",
       "3       27751                        'Salem's Lot (2004)   \n",
       "4         779                  'Til There Was You (1997)   \n",
       "...       ...                                        ...   \n",
       "9737     2600                            eXistenZ (1999)   \n",
       "9738     5507                                 xXx (2002)   \n",
       "9739    33158             xXx: State of the Union (2005)   \n",
       "9740     2478                      ¡Three Amigos! (1986)   \n",
       "9741     5560  À nous la liberté (Freedom for Us) (1931)   \n",
       "\n",
       "                                           genres  year    tmdbId  \n",
       "0                       Action|Drama|Thriller|War  2014  252178.0  \n",
       "1     Action|Adventure|Comedy|Documentary|Fantasy  2004   72867.0  \n",
       "2                                   Drama|Musical  1986   14670.0  \n",
       "3                   Drama|Horror|Mystery|Thriller  2004   36763.0  \n",
       "4                                   Drama|Romance  1997   32872.0  \n",
       "...                                           ...   ...       ...  \n",
       "9737                       Action|Sci-Fi|Thriller  1999    1946.0  \n",
       "9738                        Action|Crime|Thriller  2002    7451.0  \n",
       "9739                        Action|Crime|Thriller  2005   11679.0  \n",
       "9740                               Comedy|Western  1986    8388.0  \n",
       "9741                               Comedy|Musical  1931   31514.0  \n",
       "\n",
       "[9742 rows x 5 columns]"
      ]
     },
     "execution_count": 48,
     "metadata": {},
     "output_type": "execute_result"
    }
   ],
   "source": [
    "movielist = pickle.load(open('pickle/movielist.sav', 'rb'))\n",
    "movielist"
   ]
  },
  {
   "cell_type": "code",
   "execution_count": 49,
   "id": "dc0272ff-11a4-43c7-a6b6-fec72fc66f61",
   "metadata": {
    "tags": []
   },
   "outputs": [
    {
     "data": {
      "text/plain": [
       "array(['Action', 'Drama', 'Thriller', 'War', 'Adventure', 'Comedy',\n",
       "       'Documentary', 'Fantasy', 'Musical', 'Horror', 'Mystery',\n",
       "       'Romance', 'Children', 'Sci-Fi', 'Crime', 'Animation', 'Film-Noir',\n",
       "       'IMAX', 'Western', '(no genres listed)'], dtype=object)"
      ]
     },
     "execution_count": 49,
     "metadata": {},
     "output_type": "execute_result"
    }
   ],
   "source": [
    "genres = pickle.load(open('pickle/genres.sav', 'rb'))\n",
    "genres"
   ]
  },
  {
   "cell_type": "code",
   "execution_count": null,
   "id": "29110a4e-1ddd-45b9-b9a2-3ab7add476bd",
   "metadata": {},
   "outputs": [],
   "source": []
  }
 ],
 "metadata": {
  "kernelspec": {
   "display_name": "Python 3 (ipykernel)",
   "language": "python",
   "name": "python3"
  },
  "language_info": {
   "codemirror_mode": {
    "name": "ipython",
    "version": 3
   },
   "file_extension": ".py",
   "mimetype": "text/x-python",
   "name": "python",
   "nbconvert_exporter": "python",
   "pygments_lexer": "ipython3",
   "version": "3.11.5"
  }
 },
 "nbformat": 4,
 "nbformat_minor": 5
}
