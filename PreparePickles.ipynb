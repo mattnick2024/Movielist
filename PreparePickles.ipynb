{
 "cells": [
  {
   "cell_type": "markdown",
   "id": "b60cc2cf-fc77-42fc-88ed-b295b1ad2413",
   "metadata": {},
   "source": [
    "# Init Libraries"
   ]
  },
  {
   "cell_type": "code",
   "execution_count": null,
   "id": "9d05df23-e7da-4dd3-af27-11b0099901b2",
   "metadata": {
    "tags": []
   },
   "outputs": [],
   "source": [
    "import pandas as pd\n",
    "import streamlit as st\n",
    "import pickle\n"
   ]
  },
  {
   "cell_type": "markdown",
   "id": "4e91a1e2-ac0b-4b40-83a9-c8e5188cbe52",
   "metadata": {},
   "source": [
    "# Load Data, Preprocess Movies"
   ]
  },
  {
   "cell_type": "code",
   "execution_count": null,
   "id": "b902aa53-4bc2-4b9c-87bd-6905af363e1b",
   "metadata": {},
   "outputs": [],
   "source": [
    "movies = pd.read_csv(\"csv/movies.csv\")\n",
    "links = pd.read_csv(\"csv/links.csv\")\n",
    "ratings = pd.read_csv(\"csv/ratings.csv\")\n",
    "movies = movies.merge(links,on=\"movieId\",how=\"left\")\n",
    "movies[\"year\"] = movies[\"title\"].str[-5:-1]\n",
    "movies = movies.drop([\"imdbId\"],axis=1).copy()\n",
    "movies = movies.drop_duplicates().copy()\n",
    "movies = movies.loc[movies[\"title\"] != \"\"]\n",
    "movies = movies.sort_values([\"title\",\"year\"]).copy()"
   ]
  },
  {
   "cell_type": "markdown",
   "id": "9cf41a1e-7209-453a-b652-6e0cbe1e2eea",
   "metadata": {},
   "source": [
    "# Aggregate Ratings by movieId"
   ]
  },
  {
   "cell_type": "code",
   "execution_count": null,
   "id": "09f52da6-1b69-407e-b9ec-f44c231616f5",
   "metadata": {
    "tags": []
   },
   "outputs": [],
   "source": [
    "ratings.groupby([\"movieId\"], as_index=False).agg({\"rating\":\"sum\"}).describe()"
   ]
  },
  {
   "cell_type": "code",
   "execution_count": null,
   "id": "f258738e-4d4c-49ba-94ce-1ab9716dde5e",
   "metadata": {
    "tags": []
   },
   "outputs": [],
   "source": [
    "aggRatings = ratings.groupby('movieId').agg(Rating_Count=('rating', 'count'),\n",
    "                                            Rating_Mean=('rating', 'mean')).reset_index()\n",
    "aggRatings = aggRatings.sort_values(\"Rating_Count\",ascending=False)"
   ]
  },
  {
   "cell_type": "markdown",
   "id": "5a802a16-e69d-4c86-aebd-402916da795e",
   "metadata": {},
   "source": [
    "# Merge Ratings to Movies"
   ]
  },
  {
   "cell_type": "code",
   "execution_count": null,
   "id": "a9532ca1-277c-465e-8332-f06f8e67030e",
   "metadata": {
    "tags": []
   },
   "outputs": [],
   "source": [
    "movies = movies.merge(aggRatings,on=\"movieId\",how=\"left\").copy()"
   ]
  },
  {
   "cell_type": "code",
   "execution_count": null,
   "id": "53aba877-1897-4c4d-ad87-96ee56aa5678",
   "metadata": {
    "tags": []
   },
   "outputs": [],
   "source": [
    "movies"
   ]
  },
  {
   "cell_type": "markdown",
   "id": "c4e75d70-f5b4-4ce1-9844-c5118c1b12dd",
   "metadata": {},
   "source": [
    "# Pickle Movielist"
   ]
  },
  {
   "cell_type": "code",
   "execution_count": null,
   "id": "9beadbe5-70c5-42f0-8fe1-58e8077cc730",
   "metadata": {
    "tags": []
   },
   "outputs": [],
   "source": [
    "movies = movies.loc[~movies[\"tmdbId\"].isna()].copy()\n",
    "movies = movies.loc[~movies[\"Rating_Count\"].isna()].copy()"
   ]
  },
  {
   "cell_type": "code",
   "execution_count": null,
   "id": "440a042a-b200-4e9b-be16-4e95754a1cfd",
   "metadata": {
    "tags": []
   },
   "outputs": [],
   "source": [
    "movies[\"tmdbId\"] = movies[\"tmdbId\"].astype(int)\n",
    "movies[\"Rating_Count\"] = movies[\"Rating_Count\"].astype(int)"
   ]
  },
  {
   "cell_type": "code",
   "execution_count": null,
   "id": "84bcae9f-1334-45c5-a3f2-9a5272538ecf",
   "metadata": {
    "tags": []
   },
   "outputs": [],
   "source": [
    "movies = movies.loc[movies[\"Rating_Count\"]>=5].sort_values(\"Rating_Mean\",ascending=False)"
   ]
  },
  {
   "cell_type": "code",
   "execution_count": null,
   "id": "f8e2e230-892e-418f-aabf-4454e43433e9",
   "metadata": {},
   "outputs": [],
   "source": [
    "fileObj = open('pickle/movielist.sav', 'wb')\n",
    "pickle.dump(movies[[\"movieId\",\"title\",\"genres\",\"year\",\"tmdbId\",\"Rating_Count\",\"Rating_Mean\"]],fileObj)\n",
    "fileObj.close()"
   ]
  },
  {
   "cell_type": "markdown",
   "id": "886d05e1-f609-4354-b055-b11afbc50bc7",
   "metadata": {},
   "source": [
    "# Build Genre-List"
   ]
  },
  {
   "cell_type": "code",
   "execution_count": null,
   "id": "902ae85c-f3b5-4bc3-9d88-1baf666ef4ad",
   "metadata": {
    "tags": []
   },
   "outputs": [],
   "source": [
    "genres = movies['genres'].str.split('|')\n",
    "genres = genres.explode('genres')\n",
    "genrelist = genres.unique()"
   ]
  },
  {
   "cell_type": "markdown",
   "id": "2a1083fd-3528-4695-9c70-74752b7075f1",
   "metadata": {},
   "source": [
    "# and Pickle it as a list"
   ]
  },
  {
   "cell_type": "code",
   "execution_count": null,
   "id": "b34cbcb4-a719-4d02-bee0-dc364343e909",
   "metadata": {
    "tags": []
   },
   "outputs": [],
   "source": [
    "fileObj = open('pickle/genres.sav', 'wb')\n",
    "pickle.dump(genrelist,fileObj)\n",
    "fileObj.close()"
   ]
  },
  {
   "cell_type": "markdown",
   "id": "015b35dd-6846-432d-900f-026296b8fc04",
   "metadata": {},
   "source": [
    "# Check pickles"
   ]
  },
  {
   "cell_type": "code",
   "execution_count": null,
   "id": "87541826-edf2-4a18-8c78-96758d84fa78",
   "metadata": {},
   "outputs": [],
   "source": [
    "movielist = pickle.load(open('pickle/movielist.sav', 'rb'))\n",
    "movielist"
   ]
  },
  {
   "cell_type": "code",
   "execution_count": null,
   "id": "dc0272ff-11a4-43c7-a6b6-fec72fc66f61",
   "metadata": {
    "tags": []
   },
   "outputs": [],
   "source": [
    "genres = pickle.load(open('pickle/genres.sav', 'rb'))\n",
    "genres"
   ]
  },
  {
   "cell_type": "markdown",
   "id": "52ff5cbb-8af3-42fb-ab1c-1575e0a47c57",
   "metadata": {},
   "source": [
    "# some checks and trials"
   ]
  },
  {
   "cell_type": "code",
   "execution_count": 115,
   "id": "3aac41d1-7621-42a1-a77e-9857436427af",
   "metadata": {
    "tags": []
   },
   "outputs": [
    {
     "data": {
      "text/plain": [
       "8938      3009\n",
       "8731    359940\n",
       "5589     11423\n",
       "8247     37916\n",
       "9659     25538\n",
       "Name: tmdbId, dtype: int32"
      ]
     },
     "execution_count": 115,
     "metadata": {},
     "output_type": "execute_result"
    }
   ],
   "source": [
    "udml = movies\n",
    "udml[\"tmdbId\"][0:5]"
   ]
  },
  {
   "cell_type": "code",
   "execution_count": 117,
   "id": "da2cdff7-8982-428c-b214-8846b621084e",
   "metadata": {
    "tags": []
   },
   "outputs": [
    {
     "data": {
      "text/plain": [
       "8938    3009\n",
       "Name: tmdbId, dtype: int32"
      ]
     },
     "execution_count": 117,
     "metadata": {},
     "output_type": "execute_result"
    }
   ],
   "source": [
    "udml[\"tmdbId\"][0:1]"
   ]
  },
  {
   "cell_type": "code",
   "execution_count": null,
   "id": "a2f952d9-8280-4767-9bc1-0a67f7433d8f",
   "metadata": {},
   "outputs": [],
   "source": []
  }
 ],
 "metadata": {
  "kernelspec": {
   "display_name": "Python 3 (ipykernel)",
   "language": "python",
   "name": "python3"
  },
  "language_info": {
   "codemirror_mode": {
    "name": "ipython",
    "version": 3
   },
   "file_extension": ".py",
   "mimetype": "text/x-python",
   "name": "python",
   "nbconvert_exporter": "python",
   "pygments_lexer": "ipython3",
   "version": "3.11.5"
  }
 },
 "nbformat": 4,
 "nbformat_minor": 5
}
